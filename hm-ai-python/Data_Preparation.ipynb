{
 "cells": [
  {
   "cell_type": "code",
   "execution_count": 1,
   "id": "fefea308-7ede-4fe9-bc18-c56b8432ec55",
   "metadata": {},
   "outputs": [],
   "source": [
    "import pandas as pd\n",
    "import os\n",
    "\n",
    "#This function runs if the data is not yet filtered\n",
    "def combine_files(basics, ratings, outF):\n",
    "    if os.path.isfile(outF) != True:\n",
    "        print(f\"Creating output file '{outF}'\")\n",
    "\n",
    "        # Load the TSV files for combining\n",
    "        dfb = pd.read_csv(basics, sep='\\t')\n",
    "        dfr = pd.read_csv(ratings, sep='\\t')\n",
    "        #dfn = pd.read_csv(names, sep='\\t')\n",
    "\n",
    "        #only keep movies and only the ones with a run time (removes episodes, shorts, etc.)\n",
    "        dfb['titleType'] = dfb['titleType'].str.lower()    \n",
    "        dfb = dfb[dfb['titleType'] == 'movie']\n",
    "    \n",
    "        #remove unneccesary columns\n",
    "        dfb = dfb.drop(columns=['isAdult','titleType','endYear'])\n",
    "        \n",
    "    \n",
    "        # Merge the dataframes on the 'tconst' column to ensure that\n",
    "        #only movies with a rating are kept\n",
    "        df = pd.merge(dfb, dfr, on='tconst', how='inner')\n",
    "\n",
    "        #remove all rows that contain a NULL\n",
    "        df = df[~df.isin([r'\\N']).any(axis=1)]\n",
    "\n",
    "        #rename columns\n",
    "        df = df.rename(columns={'primaryTitle': 'englishTitle', 'startYear': 'year', 'averageRating': 'rating'})\n",
    "\n",
    "        # Save the combined dataframe to a new TSV filew\n",
    "        df.to_csv(outF, sep='\\t', index=False)\n",
    "        print(f\"Files have been combined successfully into '{outF}'\")\n",
    "    else:\n",
    "        print(f\"Output file '{outF}' already exists. Skipping file combination.\")\n",
    "    return"
   ]
  },
  {
   "cell_type": "code",
   "execution_count": 2,
   "id": "162fec2f-3ef6-4cbe-a6eb-b3d8e7d775a5",
   "metadata": {},
   "outputs": [
    {
     "name": "stdout",
     "output_type": "stream",
     "text": [
      "Output file 'IMDB.tsv' already exists. Skipping file combination.\n"
     ]
    }
   ],
   "source": [
    "file1 = \"title.basics.tsv\"\n",
    "file2 = \"title.ratings.tsv\"\n",
    "IMDB = \"IMDB.tsv\"\n",
    "\n",
    "#Combines the basics and ratings\n",
    "combine_files(file1, file2, IMDB)\n",
    "\n",
    "IMDB = pd.read_csv('IMDB.tsv', sep='\\t')"
   ]
  }
 ],
 "metadata": {
  "kernelspec": {
   "display_name": "Python 3 (ipykernel)",
   "language": "python",
   "name": "python3"
  },
  "language_info": {
   "codemirror_mode": {
    "name": "ipython",
    "version": 3
   },
   "file_extension": ".py",
   "mimetype": "text/x-python",
   "name": "python",
   "nbconvert_exporter": "python",
   "pygments_lexer": "ipython3",
   "version": "3.11.7"
  }
 },
 "nbformat": 4,
 "nbformat_minor": 5
}
